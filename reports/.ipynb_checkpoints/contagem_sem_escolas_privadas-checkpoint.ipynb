{
 "cells": [
  {
   "cell_type": "code",
   "execution_count": 1,
   "metadata": {},
   "outputs": [],
   "source": [
    "# coding: utf-8\n",
    "\n",
    "import csv\n",
    "import pandas as pd\n",
    "import numpy as np"
   ]
  },
  {
   "cell_type": "code",
   "execution_count": 2,
   "metadata": {},
   "outputs": [
    {
     "data": {
      "text/plain": [
       "240"
      ]
     },
     "execution_count": 2,
     "metadata": {},
     "output_type": "execute_result"
    }
   ],
   "source": [
    "tcu = pd.read_csv(\"../dados/TS_ESCOLA_2015_sem_escolas_privadas.csv\")\n",
    "qnt_escolas = tcu.shape[0]\n",
    "qnt_escolas"
   ]
  },
  {
   "cell_type": "code",
   "execution_count": 3,
   "metadata": {},
   "outputs": [
    {
     "data": {
      "text/plain": [
       "212"
      ]
     },
     "execution_count": 3,
     "metadata": {},
     "output_type": "execute_result"
    }
   ],
   "source": [
    "tcu_n_paralisado_ou_extinto = tcu[tcu[\"TP_SITUACAO_FUNCIONAMENTO\"] == 1]\n",
    "qnt_n_paralisado_ou_extinto = tcu_n_paralisado_ou_extinto.shape[0]\n",
    "qnt_n_paralisado_ou_extinto"
   ]
  },
  {
   "cell_type": "code",
   "execution_count": 4,
   "metadata": {},
   "outputs": [
    {
     "data": {
      "text/plain": [
       "253"
      ]
     },
     "execution_count": 4,
     "metadata": {},
     "output_type": "execute_result"
    }
   ],
   "source": [
    "enem = pd.read_csv(\"../dados_cruzados/sem_escolas_privadas/enem.csv\")\n",
    "enem = enem.shape[0]\n",
    "ideb_anos_finais = pd.read_csv(\"../dados_cruzados/sem_escolas_privadas/ideb_anos_finais.csv\")\n",
    "ideb_anos_finais = ideb_anos_finais.shape[0]\n",
    "ideb_anos_iniciais = pd.read_csv(\"../dados_cruzados/sem_escolas_privadas/ideb_anos_inciais.csv\")\n",
    "ideb_anos_iniciais = ideb_anos_iniciais.shape[0]\n",
    "\n",
    "qnt_escolas_avaliadas = enem + ideb_anos_finais + ideb_anos_iniciais\n",
    "qnt_escolas_avaliadas"
   ]
  },
  {
   "cell_type": "code",
   "execution_count": 5,
   "metadata": {},
   "outputs": [
    {
     "data": {
      "text/plain": [
       "214"
      ]
     },
     "execution_count": 5,
     "metadata": {},
     "output_type": "execute_result"
    }
   ],
   "source": [
    "enem = pd.read_csv(\"../dados_cruzados/sem_escolas_privadas/enem.csv\")\n",
    "enem = enem[enem[\"TP_SITUACAO_FUNCIONAMENTO\"] == 1]\n",
    "enem = enem.shape[0]\n",
    "ideb_anos_finais = pd.read_csv(\"../dados_cruzados/sem_escolas_privadas/ideb_anos_finais.csv\")\n",
    "ideb_anos_finais = ideb_anos_finais[ideb_anos_finais[\"TP_SITUACAO_FUNCIONAMENTO\"] == 1]\n",
    "ideb_anos_finais = ideb_anos_finais.shape[0]\n",
    "ideb_anos_iniciais = pd.read_csv(\"../dados_cruzados/sem_escolas_privadas/ideb_anos_inciais.csv\")\n",
    "ideb_anos_iniciais = ideb_anos_iniciais[ideb_anos_iniciais[\"TP_SITUACAO_FUNCIONAMENTO\"] == 1]\n",
    "ideb_anos_iniciais = ideb_anos_iniciais.shape[0]\n",
    "\n",
    "qnt_escolas_avaliadas_n_paralisado_ou_extindo = enem + ideb_anos_finais + ideb_anos_iniciais\n",
    "qnt_escolas_avaliadas_n_paralisado_ou_extindo"
   ]
  },
  {
   "cell_type": "code",
   "execution_count": null,
   "metadata": {},
   "outputs": [],
   "source": []
  }
 ],
 "metadata": {
  "kernelspec": {
   "display_name": "Python 2",
   "language": "python",
   "name": "python2"
  },
  "language_info": {
   "codemirror_mode": {
    "name": "ipython",
    "version": 2
   },
   "file_extension": ".py",
   "mimetype": "text/x-python",
   "name": "python",
   "nbconvert_exporter": "python",
   "pygments_lexer": "ipython2",
   "version": "2.7.15"
  }
 },
 "nbformat": 4,
 "nbformat_minor": 2
}
